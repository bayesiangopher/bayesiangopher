{
 "cells": [
  {
   "cell_type": "code",
   "execution_count": null,
   "metadata": {},
   "outputs": [],
   "source": [
    "import numpy as np\n",
    "from sklearn.cluster import KMeans\n",
    "import matplotlib.pyplot as plt"
   ]
  },
  {
   "cell_type": "code",
   "execution_count": null,
   "metadata": {
    "scrolled": false
   },
   "outputs": [],
   "source": [
    "train = np.genfromtxt('../../../datasets/the_xclara_cluster_2.5k_dataset.csv', delimiter=',')[1:]\n",
    "train_test = np.genfromtxt('../../../datasets/the_xclara_cluster_test_train.csv', delimiter=',')[1:]\n",
    "print(f\"Train matrix:\\n {train}\\n\")\n",
    "print(f\"Train test matrix:\\n {train_test}\\n\")"
   ]
  },
  {
   "cell_type": "code",
   "execution_count": null,
   "metadata": {},
   "outputs": [],
   "source": [
    "kmeans = KMeans(n_clusters=3, random_state=0)\n",
    "kmeans.fit(train)"
   ]
  },
  {
   "cell_type": "code",
   "execution_count": null,
   "metadata": {},
   "outputs": [],
   "source": [
    "print(f\"Count of clusters: {set(kmeans.labels_)}\")\n",
    "print(f\"Centers of clusters: {kmeans.cluster_centers_}\")\n",
    "print(f\"Score: {kmeans.score(train_test)}\")"
   ]
  },
  {
   "cell_type": "code",
   "execution_count": null,
   "metadata": {},
   "outputs": [],
   "source": [
    "unique_labels = set(kmeans.labels_)\n",
    "colors = [plt.cm.Spectral(each) for each in np.linspace(0, 1, len(unique_labels))]\n",
    "fig, ax = plt.subplots(figsize=(20,10))\n",
    "ax.use_sticky_edges = False\n",
    "ax.margins(0.07)\n",
    "ax.set_xlabel('X Label')\n",
    "ax.set_ylabel('Y Label')\n",
    "ax.set_title(f\"clustered_data_set\")\n",
    "for c, d in zip(kmeans.labels_, train):\n",
    "    plt.scatter(d[0], d[1], color=colors[c])"
   ]
  }
 ],
 "metadata": {
  "kernelspec": {
   "display_name": "Python 3",
   "language": "python",
   "name": "python3"
  },
  "language_info": {
   "codemirror_mode": {
    "name": "ipython",
    "version": 3
   },
   "file_extension": ".py",
   "mimetype": "text/x-python",
   "name": "python",
   "nbconvert_exporter": "python",
   "pygments_lexer": "ipython3",
   "version": "3.7.2"
  }
 },
 "nbformat": 4,
 "nbformat_minor": 2
}
