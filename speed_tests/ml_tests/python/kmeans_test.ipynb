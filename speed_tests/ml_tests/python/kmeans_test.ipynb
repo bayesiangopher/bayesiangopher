{
 "cells": [
  {
   "cell_type": "code",
   "execution_count": 1,
   "metadata": {},
   "outputs": [],
   "source": [
    "import numpy as np\n",
    "from sklearn.cluster import KMeans"
   ]
  },
  {
   "cell_type": "code",
   "execution_count": 6,
   "metadata": {
    "scrolled": false
   },
   "outputs": [
    {
     "name": "stdout",
     "output_type": "stream",
     "text": [
      "Train matrix:\n",
      " [[  2.072345  -3.241693]\n",
      " [ 17.93671   15.78481 ]\n",
      " [  1.083576   7.319176]\n",
      " ...\n",
      " [ 51.82533  -14.28696 ]\n",
      " [ 70.39661   -5.694306]\n",
      " [ 76.49829   -4.378538]]\n",
      "\n",
      "Train test matrix:\n",
      " [[ 61.48431  -16.31903 ]\n",
      " [ 61.80352    1.297201]\n",
      " [ 76.0211    -7.230398]\n",
      " ...\n",
      " [ 64.46532  -10.50136 ]\n",
      " [ 90.72282  -12.25584 ]\n",
      " [ 64.87976  -24.87731 ]]\n",
      "\n"
     ]
    }
   ],
   "source": [
    "train = np.genfromtxt('../../../datasets/the_xclara_cluster_2.5k_dataset.csv', delimiter=',')[1:]\n",
    "train_test = np.genfromtxt('../../../datasets/the_xclara_cluster_test_train.csv', delimiter=',')[1:]\n",
    "print(f\"Train matrix:\\n {train}\\n\")\n",
    "print(f\"Train test matrix:\\n {train_test}\\n\")"
   ]
  },
  {
   "cell_type": "code",
   "execution_count": 19,
   "metadata": {},
   "outputs": [
    {
     "data": {
      "text/plain": [
       "KMeans(algorithm='auto', copy_x=True, init='k-means++', max_iter=300,\n",
       "       n_clusters=3, n_init=10, n_jobs=None, precompute_distances='auto',\n",
       "       random_state=0, tol=0.0001, verbose=0)"
      ]
     },
     "execution_count": 19,
     "metadata": {},
     "output_type": "execute_result"
    }
   ],
   "source": [
    "kmeans = KMeans(n_clusters=3, random_state=0)\n",
    "kmeans.fit(train)"
   ]
  },
  {
   "cell_type": "code",
   "execution_count": 20,
   "metadata": {},
   "outputs": [
    {
     "name": "stdout",
     "output_type": "stream",
     "text": [
      "Count of clusters: {0, 1, 2}\n",
      "Centers of clusters: [[40.68362784 59.71589274]\n",
      " [69.90259024 -9.9147268 ]\n",
      " [ 9.4780459  10.686052  ]]\n",
      "Score: -110718.71507934175\n"
     ]
    }
   ],
   "source": [
    "print(f\"Count of clusters: {set(kmeans.labels_)}\")\n",
    "print(f\"Centers of clusters: {kmeans.cluster_centers_}\")\n",
    "print(f\"Score: {kmeans.score(train_test)}\")"
   ]
  }
 ],
 "metadata": {
  "kernelspec": {
   "display_name": "Python 3",
   "language": "python",
   "name": "python3"
  },
  "language_info": {
   "codemirror_mode": {
    "name": "ipython",
    "version": 3
   },
   "file_extension": ".py",
   "mimetype": "text/x-python",
   "name": "python",
   "nbconvert_exporter": "python",
   "pygments_lexer": "ipython3",
   "version": "3.7.2"
  }
 },
 "nbformat": 4,
 "nbformat_minor": 2
}
