{
 "cells": [
  {
   "cell_type": "code",
   "execution_count": null,
   "metadata": {},
   "outputs": [],
   "source": [
    "import numpy as np\n",
    "from sklearn.decomposition import PCA"
   ]
  },
  {
   "cell_type": "code",
   "execution_count": null,
   "metadata": {},
   "outputs": [],
   "source": [
    "train = np.genfromtxt('../../../datasets/the_boston_housing_dataset.csv', delimiter=',')[1:]\n",
    "print(f\"Train data:\\n {train}\\n\")"
   ]
  },
  {
   "cell_type": "code",
   "execution_count": null,
   "metadata": {},
   "outputs": [],
   "source": [
    "pca = PCA(n_components=2)\n",
    "train_decomposed = pca.fit_transform(train)\n",
    "print(f\"Decomposed data:\\n {train_decomposed}\\n\")"
   ]
  },
  {
   "cell_type": "code",
   "execution_count": null,
   "metadata": {},
   "outputs": [],
   "source": [
    "print(f\"Mean vector: \\n{pca.mean_}\")\n",
    "print(f\"Projection: \\n{pca.components_}\")\n",
    "print(f\"Explained variance: \\n{pca.explained_variance_}\")\n",
    "print(f\"Explained variance ratio: \\n{pca.explained_variance_ratio_}\")\n",
    "print(f\"Singular values: \\n{pca.singular_values_}\")"
   ]
  }
 ],
 "metadata": {
  "kernelspec": {
   "display_name": "Python 3",
   "language": "python",
   "name": "python3"
  },
  "language_info": {
   "codemirror_mode": {
    "name": "ipython",
    "version": 3
   },
   "file_extension": ".py",
   "mimetype": "text/x-python",
   "name": "python",
   "nbconvert_exporter": "python",
   "pygments_lexer": "ipython3",
   "version": "3.7.2"
  }
 },
 "nbformat": 4,
 "nbformat_minor": 2
}
