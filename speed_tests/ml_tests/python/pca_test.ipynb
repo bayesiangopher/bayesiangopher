{
 "cells": [
  {
   "cell_type": "code",
   "execution_count": 1,
   "metadata": {},
   "outputs": [],
   "source": [
    "import numpy as np\n",
    "from sklearn.decomposition import PCA"
   ]
  },
  {
   "cell_type": "code",
   "execution_count": 20,
   "metadata": {},
   "outputs": [
    {
     "name": "stdout",
     "output_type": "stream",
     "text": [
      "Train data:\n",
      " [[6.3200e-03 1.8000e+01 2.3100e+00 ... 3.9690e+02 4.9800e+00 2.4000e+01]\n",
      " [2.7310e-02 0.0000e+00 7.0700e+00 ... 3.9690e+02 9.1400e+00 2.1600e+01]\n",
      " [2.7290e-02 0.0000e+00 7.0700e+00 ... 3.9283e+02 4.0300e+00 3.4700e+01]\n",
      " ...\n",
      " [6.0760e-02 0.0000e+00 1.1930e+01 ... 3.9690e+02 5.6400e+00 2.3900e+01]\n",
      " [1.0959e-01 0.0000e+00 1.1930e+01 ... 3.9345e+02 6.4800e+00 2.2000e+01]\n",
      " [4.7410e-02 0.0000e+00 1.1930e+01 ... 3.9690e+02 7.8800e+00 1.1900e+01]]\n",
      "\n"
     ]
    }
   ],
   "source": [
    "train = np.genfromtxt('../../../datasets/the_boston_housing_dataset.csv', delimiter=',')[1:]\n",
    "print(f\"Train data:\\n {train}\\n\")"
   ]
  },
  {
   "cell_type": "code",
   "execution_count": 22,
   "metadata": {},
   "outputs": [
    {
     "name": "stdout",
     "output_type": "stream",
     "text": [
      "Decomposed data:\n",
      " [[-119.81759621   -5.53898918]\n",
      " [-168.8093378    10.17445922]\n",
      " [-169.56557101   14.02169685]\n",
      " ...\n",
      " [-138.37536643    0.96806797]\n",
      " [-137.44500197    4.29816287]\n",
      " [-138.87215156    1.14494212]]\n",
      "\n"
     ]
    }
   ],
   "source": [
    "pca = PCA(n_components=2)\n",
    "train_decomposed = pca.fit_transform(train)\n",
    "print(f\"Decomposed data:\\n {train_decomposed}\\n\")"
   ]
  },
  {
   "cell_type": "code",
   "execution_count": 28,
   "metadata": {},
   "outputs": [
    {
     "name": "stdout",
     "output_type": "stream",
     "text": [
      "Mean vector: \n",
      "[3.61352356e+00 1.13636364e+01 1.11367787e+01 6.91699605e-02\n",
      " 5.54695059e-01 6.28463439e+00 6.85749012e+01 3.79504269e+00\n",
      " 9.54940711e+00 4.08237154e+02 1.84555336e+01 3.56674032e+02\n",
      " 1.26530632e+01 2.25328063e+01]\n",
      "Projection: \n",
      "[[ 2.92941977e-02 -4.36119495e-02  2.83285521e-02 -5.58686577e-05\n",
      "   4.49661246e-04 -1.17073333e-03  8.36333712e-02 -6.55927907e-03\n",
      "   4.49865875e-02  9.49410543e-01  5.60299073e-03 -2.91176449e-01\n",
      "   2.29611938e-02 -2.55282918e-02]\n",
      " [ 6.67046853e-03  1.11892970e-03 -4.94446469e-03 -1.03158562e-04\n",
      "   1.85801865e-06  3.60907378e-04 -5.69199446e-03  3.55422901e-04\n",
      "  -8.63728357e-03 -2.92671865e-01 -2.52203704e-03 -9.56058290e-01\n",
      "   5.80428040e-03 -8.84372765e-03]]\n",
      "Explained variance: \n",
      "[30910.01293092  6250.81428009]\n",
      "Explained variance ratio: \n",
      "[0.80457219 0.16270557]\n",
      "Singular values: \n",
      "[3950.89313069 1776.69952762]\n"
     ]
    }
   ],
   "source": [
    "print(f\"Mean vector: \\n{pca.mean_}\")\n",
    "print(f\"Projection: \\n{pca.components_}\")\n",
    "print(f\"Explained variance: \\n{pca.explained_variance_}\")\n",
    "print(f\"Explained variance ratio: \\n{pca.explained_variance_ratio_}\")\n",
    "print(f\"Singular values: \\n{pca.singular_values_}\")"
   ]
  },
  {
   "cell_type": "code",
   "execution_count": null,
   "metadata": {},
   "outputs": [],
   "source": []
  }
 ],
 "metadata": {
  "kernelspec": {
   "display_name": "Python 3",
   "language": "python",
   "name": "python3"
  },
  "language_info": {
   "codemirror_mode": {
    "name": "ipython",
    "version": 3
   },
   "file_extension": ".py",
   "mimetype": "text/x-python",
   "name": "python",
   "nbconvert_exporter": "python",
   "pygments_lexer": "ipython3",
   "version": "3.7.2"
  }
 },
 "nbformat": 4,
 "nbformat_minor": 2
}
