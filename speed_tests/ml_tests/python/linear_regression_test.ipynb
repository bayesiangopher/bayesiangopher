{
 "cells": [
  {
   "cell_type": "code",
   "execution_count": 1,
   "metadata": {},
   "outputs": [],
   "source": [
    "import numpy as np\n",
    "from sklearn.linear_model import LinearRegression"
   ]
  },
  {
   "cell_type": "code",
   "execution_count": 18,
   "metadata": {
    "scrolled": true
   },
   "outputs": [
    {
     "name": "stdout",
     "output_type": "stream",
     "text": [
      "X matrix:\n",
      " [[22.22222222 23.88888889]\n",
      " [21.66666667 25.55555556]\n",
      " [22.22222222 24.44444444]\n",
      " ...\n",
      " [22.22222222 26.11111111]\n",
      " [22.22222222 26.66666667]\n",
      " [21.11111111 22.77777778]]\n",
      "\n",
      "y vector:\n",
      " [25.55555556 28.88888889 26.11111111 ... 30.         30.55555556\n",
      " 30.        ]\n",
      "X test matrix:\n",
      " [[22.22222222 23.88888889]\n",
      " [21.66666667 25.55555556]\n",
      " [22.22222222 24.44444444]\n",
      " ...\n",
      " [22.22222222 26.11111111]\n",
      " [22.22222222 26.66666667]\n",
      " [21.11111111 22.77777778]]\n",
      "\n",
      "y test vector:\n",
      " [25.55555556 28.88888889 26.11111111 ... 30.         30.55555556\n",
      " 30.        ]\n"
     ]
    }
   ],
   "source": [
    "train = np.genfromtxt('../../../../../datasets/the_train_WWT_weather_dataset.csv', delimiter=',')[1:]\n",
    "train_test = np.genfromtxt('../../../../../datasets/the_test_train_WWT_weather_dataset.csv', delimiter=',')[1:]\n",
    "X = train[:,1:]\n",
    "y = train[:,0]\n",
    "X_test = train[:,1:]\n",
    "y_test = train[:,0]\n",
    "print(f\"X matrix:\\n {X}\\n\")\n",
    "print(f\"y vector:\\n {y}\")\n",
    "print(f\"X test matrix:\\n {X_test}\\n\")\n",
    "print(f\"y test vector:\\n {y_test}\")"
   ]
  },
  {
   "cell_type": "code",
   "execution_count": 19,
   "metadata": {},
   "outputs": [
    {
     "data": {
      "text/plain": [
       "LinearRegression(copy_X=True, fit_intercept=True, n_jobs=None, normalize=False)"
      ]
     },
     "execution_count": 19,
     "metadata": {},
     "output_type": "execute_result"
    }
   ],
   "source": [
    "lr = LinearRegression()\n",
    "lr.fit(X, y)"
   ]
  },
  {
   "cell_type": "code",
   "execution_count": 22,
   "metadata": {},
   "outputs": [
    {
     "name": "stdout",
     "output_type": "stream",
     "text": [
      "R^2: \n",
      "0.9593347300879512\n"
     ]
    }
   ],
   "source": [
    "R_squared = lr.score(X_test, y_test)\n",
    "print(f\"R^2: \\n{R_squared}\")"
   ]
  }
 ],
 "metadata": {
  "kernelspec": {
   "display_name": "Python 3",
   "language": "python",
   "name": "python3"
  },
  "language_info": {
   "codemirror_mode": {
    "name": "ipython",
    "version": 3
   },
   "file_extension": ".py",
   "mimetype": "text/x-python",
   "name": "python",
   "nbconvert_exporter": "python",
   "pygments_lexer": "ipython3",
   "version": "3.7.2"
  }
 },
 "nbformat": 4,
 "nbformat_minor": 2
}
