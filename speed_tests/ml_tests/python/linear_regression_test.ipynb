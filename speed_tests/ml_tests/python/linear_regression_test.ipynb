{
 "cells": [
  {
   "cell_type": "code",
   "execution_count": null,
   "metadata": {},
   "outputs": [],
   "source": [
    "import numpy as np\n",
    "from sklearn.linear_model import LinearRegression"
   ]
  },
  {
   "cell_type": "code",
   "execution_count": null,
   "metadata": {
    "scrolled": true
   },
   "outputs": [],
   "source": [
    "train = np.genfromtxt('../../../datasets/the_train_WWT_weather_dataset.csv', delimiter=',')[1:]\n",
    "train_test = np.genfromtxt('../../../datasets/the_test_train_WWT_weather_dataset.csv', delimiter=',')[1:]\n",
    "X = train[:,1:]\n",
    "y = train[:,0]\n",
    "X_test = train[:,1:]\n",
    "y_test = train[:,0]\n",
    "print(f\"X matrix:\\n {X}\\n\")\n",
    "print(f\"y vector:\\n {y}\")\n",
    "print(f\"X test matrix:\\n {X_test}\\n\")\n",
    "print(f\"y test vector:\\n {y_test}\")"
   ]
  },
  {
   "cell_type": "code",
   "execution_count": null,
   "metadata": {},
   "outputs": [],
   "source": [
    "lr = LinearRegression()\n",
    "lr.fit(X, y)"
   ]
  },
  {
   "cell_type": "code",
   "execution_count": null,
   "metadata": {},
   "outputs": [],
   "source": [
    "R_squared = lr.score(X_test, y_test)\n",
    "print(f\"R^2: \\n{R_squared}\")"
   ]
  }
 ],
 "metadata": {
  "kernelspec": {
   "display_name": "Python 3",
   "language": "python",
   "name": "python3"
  },
  "language_info": {
   "codemirror_mode": {
    "name": "ipython",
    "version": 3
   },
   "file_extension": ".py",
   "mimetype": "text/x-python",
   "name": "python",
   "nbconvert_exporter": "python",
   "pygments_lexer": "ipython3",
   "version": "3.7.2"
  }
 },
 "nbformat": 4,
 "nbformat_minor": 2
}
