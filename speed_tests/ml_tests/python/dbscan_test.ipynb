{
 "cells": [
  {
   "cell_type": "code",
   "execution_count": null,
   "metadata": {},
   "outputs": [],
   "source": [
    "import numpy as np\n",
    "import matplotlib.pyplot as plt\n",
    "from sklearn.cluster import DBSCAN\n",
    "import matplotlib"
   ]
  },
  {
   "cell_type": "code",
   "execution_count": null,
   "metadata": {},
   "outputs": [],
   "source": [
    "class DataGaner():\n",
    "    \n",
    "    def __init__(self, size=275):\n",
    "        self.size = size\n",
    "        \n",
    "    def create_data(self, type=\"complex\"):\n",
    "        if type == \"comples\":\n",
    "            self.data = [(np.random.randn()/6 - 1, np.random.randn()/6 - 1) for i in range(self.size)]\n",
    "            self.data.extend([(np.random.randn()/4 + 2.5, np.random.randn()/5) for i in range(self.size)])\n",
    "            self.data.extend([(np.random.randn()/3 - 2, np.random.randn()/10 + 1) for i in range(self.size)])\n",
    "            self.data.extend([(np.random.randn()/50 - 2, np.random.randn() + 1) for i in range(self.size)])\n",
    "            self.data.extend([(np.random.randn()/5 + 1, np.random.randn()/2 + 1) for i in range(self.size)])\n",
    "            self.data.extend([(i/25 - 1, + np.random.randn()/20 - 3) for i in range(self.size)])\n",
    "            self.data.extend([(i/25 - 2.5, 9 - (i/50 - 2)**2 + np.random.randn()/20) for i in range(self.size)])\n",
    "            self.data.extend([(i/25 - 2.5, 6 + (i/50 - 2)**2 + np.random.randn()/2) for i in range(self.size)])\n",
    "            self.data = np.array(self.data)\n",
    "        else:\n",
    "            self.data = [(np.random.randn()/6, np.random.randn()/6) for i in range(150)]\n",
    "            self.data.extend([(np.random.randn()/4 + 2.5, np.random.randn()/5) for i in range(150)])\n",
    "            self.data.extend([(np.random.randn()/5 + 1, np.random.randn()/2 + 1) for i in range(150)])\n",
    "            self.data.extend([(i/25 - 1, + np.random.randn()/20 - 1) for i in range(100)])\n",
    "            self.data.extend([(i/25 - 2.5, 3 - (i/50 - 2)**2 + np.random.randn()/20) for i in range(100)])\n",
    "            self.data = np.array(self.data)\n",
    "        \n",
    "    def print_data(self):\n",
    "        print(self.data[:])\n",
    "    \n",
    "    def plot_data(self):\n",
    "        fig, ax = plt.subplots(figsize=(20,10))\n",
    "        ax.use_sticky_edges = False\n",
    "        ax.margins(0.07)\n",
    "        ax.set_xlabel('X Label')\n",
    "        ax.set_ylabel('Y Label')\n",
    "        ax.scatter(self.data[:,0], self.data[:,1])\n",
    "        ax.set_title(f\"generated_data_set\")\n",
    "        plt.show()\n"
   ]
  },
  {
   "cell_type": "code",
   "execution_count": null,
   "metadata": {},
   "outputs": [],
   "source": [
    "dg = DataGaner()\n",
    "dg.create_data()\n",
    "dg.print_data()\n",
    "dg.plot_data()"
   ]
  },
  {
   "cell_type": "code",
   "execution_count": null,
   "metadata": {},
   "outputs": [],
   "source": [
    "clustering = DBSCAN(eps=0.3, min_samples=7).fit(dg.data)\n",
    "unique_labels = set(clustering.labels_)\n",
    "print(len(unique_labels))\n",
    "colors = [plt.cm.Spectral(each) for each in np.linspace(0, 1, len(unique_labels))]\n",
    "fig, ax = plt.subplots(figsize=(20,10))\n",
    "ax.use_sticky_edges = False\n",
    "ax.margins(0.07)\n",
    "ax.set_xlabel('X Label')\n",
    "ax.set_ylabel('Y Label')\n",
    "ax.set_title(f\"clustered_data_set\")\n",
    "for c, d in zip(clustering.labels_, dg.data):\n",
    "    plt.scatter(d[0], d[1], color=colors[c])"
   ]
  }
 ],
 "metadata": {
  "kernelspec": {
   "display_name": "Python 3",
   "language": "python",
   "name": "python3"
  },
  "language_info": {
   "codemirror_mode": {
    "name": "ipython",
    "version": 3
   },
   "file_extension": ".py",
   "mimetype": "text/x-python",
   "name": "python",
   "nbconvert_exporter": "python",
   "pygments_lexer": "ipython3",
   "version": "3.7.2"
  },
  "pycharm": {
   "stem_cell": {
    "cell_type": "raw",
    "metadata": {
     "collapsed": false
    },
    "source": []
   }
  }
 },
 "nbformat": 4,
 "nbformat_minor": 2
}
