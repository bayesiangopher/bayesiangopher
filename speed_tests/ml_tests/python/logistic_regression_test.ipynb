{
 "cells": [
  {
   "cell_type": "code",
   "execution_count": null,
   "metadata": {},
   "outputs": [],
   "source": [
    "import numpy as np\n",
    "from sklearn.linear_model import LogisticRegression"
   ]
  },
  {
   "cell_type": "code",
   "execution_count": null,
   "metadata": {},
   "outputs": [],
   "source": [
    "train = np.genfromtxt('../../../datasets/the_breast_canser_500rows_dataset.csv', delimiter=',')[1:]\n",
    "train_test = np.genfromtxt('../../../datasets/the_breast_canser_test_train.csv', delimiter=',')[1:]\n",
    "X = train[:,1:]\n",
    "y = train[:,0]\n",
    "X_test = train_test[:,1:]\n",
    "y_test = train_test[:,0]\n",
    "print(f\"X matrix:\\n {X}\\n\")\n",
    "print(f\"y vector:\\n {y}\")\n",
    "print(f\"X test matrix:\\n {X_test}\\n\")\n",
    "print(f\"y test vector:\\n {y_test}\")"
   ]
  },
  {
   "cell_type": "code",
   "execution_count": null,
   "metadata": {},
   "outputs": [],
   "source": [
    "logr = LogisticRegression(random_state=0, solver='lbfgs')\n",
    "logr.fit(X, y)"
   ]
  },
  {
   "cell_type": "code",
   "execution_count": null,
   "metadata": {},
   "outputs": [],
   "source": [
    "score = logr.score(X_test, y_test)\n",
    "print(f\"Score: \\n{score}\")"
   ]
  }
 ],
 "metadata": {
  "kernelspec": {
   "display_name": "Python 3",
   "language": "python",
   "name": "python3"
  },
  "language_info": {
   "codemirror_mode": {
    "name": "ipython",
    "version": 3
   },
   "file_extension": ".py",
   "mimetype": "text/x-python",
   "name": "python",
   "nbconvert_exporter": "python",
   "pygments_lexer": "ipython3",
   "version": "3.7.2"
  }
 },
 "nbformat": 4,
 "nbformat_minor": 2
}
