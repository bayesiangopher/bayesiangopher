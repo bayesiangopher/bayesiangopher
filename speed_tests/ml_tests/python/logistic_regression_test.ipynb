{
 "cells": [
  {
   "cell_type": "code",
   "execution_count": 1,
   "metadata": {},
   "outputs": [],
   "source": [
    "import numpy as np\n",
    "from sklearn.linear_model import LogisticRegression"
   ]
  },
  {
   "cell_type": "code",
   "execution_count": 5,
   "metadata": {},
   "outputs": [
    {
     "name": "stdout",
     "output_type": "stream",
     "text": [
      "X matrix:\n",
      " [[7.92541486e-03 4.57286305e-03 5.40989964e-02 ... 1.16920795e-04\n",
      "  2.02695018e-04 5.23808686e-05]\n",
      " [8.66575595e-03 7.48616836e-03 5.59882822e-02 ... 7.83583182e-05\n",
      "  1.15852352e-04 3.75024596e-05]\n",
      " [9.36668268e-03 1.01087865e-02 6.18419883e-02 ... 1.15596947e-04\n",
      "  1.71873157e-04 4.16624718e-05]\n",
      " ...\n",
      " [1.56324109e-02 2.24538265e-02 1.02185301e-01 ... 1.73871953e-04\n",
      "  3.99151677e-04 1.27654391e-04]\n",
      " [1.58910035e-02 2.20588028e-02 1.02520548e-01 ... 1.34187865e-04\n",
      "  3.86761794e-04 9.76270874e-05]\n",
      " [9.55117777e-03 9.05011544e-03 6.26586189e-02 ... 8.59037784e-05\n",
      "  1.29656334e-04 4.87890070e-05]]\n",
      "\n",
      "y vector:\n",
      " [0. 0. 0. 0. 0. 0. 0. 0. 0. 0. 0. 0. 0. 0. 0. 0. 0. 0. 0. 1. 1. 1. 0. 0.\n",
      " 0. 0. 0. 0. 0. 0. 0. 0. 0. 0. 0. 0. 0. 1. 0. 0. 0. 0. 0. 0. 0. 0. 1. 0.\n",
      " 1. 1. 1. 1. 1. 0. 0. 1. 0. 0. 1. 1. 1. 1. 0. 1. 0. 0. 1. 1. 1. 1. 0. 1.\n",
      " 0. 0. 1. 0. 1. 0. 0. 1. 1. 1. 0. 0. 1. 0. 0. 0. 1. 1. 1. 0. 1. 1. 0. 0.\n",
      " 1. 1. 1. 0. 0. 1. 1. 1. 1. 0. 1. 1. 0. 1. 1. 1. 1. 1. 1. 1. 1. 0. 0. 0.\n",
      " 1. 0. 0. 1. 1. 1. 0. 0. 1. 0. 1. 0. 0. 1. 0. 0. 1. 1. 0. 1. 1. 0. 1. 1.\n",
      " 1. 1. 0. 1. 1. 1. 1. 1. 1. 1. 1. 1. 0. 1. 1. 1. 1. 0. 0. 1. 0. 1. 1. 0.\n",
      " 0. 1. 1. 0. 0. 1. 1. 1. 1. 0. 1. 1. 0. 0. 0. 1. 0. 1. 0. 1. 1. 1. 0. 1.\n",
      " 1. 0. 0. 1. 0. 0. 0. 0. 1. 0. 0. 0. 1. 0. 1. 0. 1. 1. 0. 1. 0. 0. 0. 0.\n",
      " 1. 1. 0. 0. 1. 1. 1. 0. 1. 1. 1. 1. 1. 0. 0. 1. 1. 0. 1. 1. 0. 0. 1. 0.\n",
      " 1. 1. 1. 1. 0. 1. 1. 1. 1. 1. 0. 1. 0. 0. 0. 0. 0. 0. 0. 0. 0. 0. 0. 0.\n",
      " 0. 0. 1. 1. 1. 1. 1. 1. 0. 1. 0. 1. 1. 0. 1. 1. 0. 1. 0. 0. 1. 1. 1. 1.\n",
      " 1. 1. 1. 1. 1. 1. 1. 1. 1. 0. 1. 1. 0. 1. 0. 1. 1. 1. 1. 1. 1. 1. 1. 1.\n",
      " 1. 1. 1. 1. 1. 0. 1. 1. 1. 0. 1. 0. 1. 1. 1. 1. 0. 0. 0. 1. 1. 1. 1. 0.\n",
      " 1. 0. 1. 0. 1. 1. 1. 0. 1. 1. 1. 1. 1. 1. 1. 0. 0. 0. 1. 1. 1. 1. 1. 1.\n",
      " 1. 1. 1. 1. 1. 0. 0. 1. 0. 0. 0. 1. 0. 0. 1. 1. 1. 1. 1. 0. 1. 1. 1. 1.\n",
      " 1. 0. 1. 1. 1. 0. 1. 1. 0. 0. 1. 1. 1. 1. 1. 1. 0. 1. 1. 1. 1. 1. 1. 1.\n",
      " 0. 1. 1. 1. 1. 1. 0. 1. 1. 0. 1. 1. 1. 1. 1. 1. 1. 1. 1. 1. 1. 1. 0. 1.\n",
      " 0. 0. 1. 0. 1. 1. 1. 1. 1. 0. 1. 1. 0. 1. 0. 1. 1. 0. 1. 0. 1. 1. 1. 1.\n",
      " 1. 1. 1. 1. 0. 0. 1. 1. 1. 1. 1. 1. 0. 1. 1. 1. 1. 1. 1. 1. 1. 1. 1. 0.\n",
      " 1. 1. 1. 1. 1. 1. 1. 0. 1. 0. 1. 1. 0. 1. 1. 1. 1. 1. 0.]\n",
      "X test matrix:\n",
      " [[9.30762554e-03 9.60145539e-03 6.22919281e-02 ... 9.55173034e-05\n",
      "  1.12107389e-04 4.06796126e-05]\n",
      " [1.35404498e-02 1.50709528e-02 8.88862108e-02 ... 9.16501192e-05\n",
      "  1.95994410e-04 7.69662936e-05]\n",
      " [1.38236592e-02 2.44964843e-02 9.23544466e-02 ... 1.52140272e-04\n",
      "  3.65196669e-04 1.18331323e-04]\n",
      " ...\n",
      " [1.16438847e-02 1.96964025e-02 7.59658259e-02 ... 9.94640269e-05\n",
      "  1.55579134e-04 5.48525170e-05]\n",
      " [9.23020523e-03 1.31418408e-02 6.27743569e-02 ... 1.18738077e-04\n",
      "  1.83125480e-04 5.55604587e-05]\n",
      " [2.31098880e-02 7.30820427e-02 1.42709515e-01 ... 0.00000000e+00\n",
      "  8.55006294e-04 2.09626935e-04]]\n",
      "\n",
      "y test vector:\n",
      " [0. 1. 0. 1. 0. 1. 1. 1. 1. 1. 0. 1. 1. 0. 1. 0. 1. 0. 0. 1. 1. 1. 0. 1.\n",
      " 1. 1. 1. 1. 1. 1. 1. 1. 1. 1. 0. 1. 0. 0. 1. 1. 1. 1. 1. 1. 1. 1. 1. 1.\n",
      " 1. 1. 1. 1. 1. 1. 1. 1. 1. 1. 1. 1. 1. 1. 1. 0. 0. 0. 0. 0. 0. 1.]\n"
     ]
    }
   ],
   "source": [
    "train = np.genfromtxt('../../../datasets/the_breast_canser_500rows_dataset.csv', delimiter=',')[1:]\n",
    "train_test = np.genfromtxt('../../../datasets/the_breast_canser_test_train.csv', delimiter=',')[1:]\n",
    "X = train[:,1:]\n",
    "y = train[:,0]\n",
    "X_test = train_test[:,1:]\n",
    "y_test = train_test[:,0]\n",
    "print(f\"X matrix:\\n {X}\\n\")\n",
    "print(f\"y vector:\\n {y}\")\n",
    "print(f\"X test matrix:\\n {X_test}\\n\")\n",
    "print(f\"y test vector:\\n {y_test}\")"
   ]
  },
  {
   "cell_type": "code",
   "execution_count": 7,
   "metadata": {},
   "outputs": [
    {
     "data": {
      "text/plain": [
       "LogisticRegression(C=1.0, class_weight=None, dual=False, fit_intercept=True,\n",
       "                   intercept_scaling=1, l1_ratio=None, max_iter=100,\n",
       "                   multi_class='warn', n_jobs=None, penalty='l2',\n",
       "                   random_state=0, solver='lbfgs', tol=0.0001, verbose=0,\n",
       "                   warm_start=False)"
      ]
     },
     "execution_count": 7,
     "metadata": {},
     "output_type": "execute_result"
    }
   ],
   "source": [
    "logr = LogisticRegression(random_state=0, solver='lbfgs')\n",
    "logr.fit(X, y)"
   ]
  },
  {
   "cell_type": "code",
   "execution_count": 8,
   "metadata": {},
   "outputs": [
    {
     "name": "stdout",
     "output_type": "stream",
     "text": [
      "Score: \n",
      "0.8428571428571429\n"
     ]
    }
   ],
   "source": [
    "score = logr.score(X_test, y_test)\n",
    "print(f\"Score: \\n{score}\")"
   ]
  },
  {
   "cell_type": "code",
   "execution_count": null,
   "metadata": {},
   "outputs": [],
   "source": []
  }
 ],
 "metadata": {
  "kernelspec": {
   "display_name": "Python 3",
   "language": "python",
   "name": "python3"
  },
  "language_info": {
   "codemirror_mode": {
    "name": "ipython",
    "version": 3
   },
   "file_extension": ".py",
   "mimetype": "text/x-python",
   "name": "python",
   "nbconvert_exporter": "python",
   "pygments_lexer": "ipython3",
   "version": "3.7.2"
  }
 },
 "nbformat": 4,
 "nbformat_minor": 2
}
