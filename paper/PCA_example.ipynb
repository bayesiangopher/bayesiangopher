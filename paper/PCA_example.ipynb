{
 "cells": [
  {
   "cell_type": "code",
   "execution_count": null,
   "metadata": {},
   "outputs": [],
   "source": [
    "import numpy as np\n",
    "from sklearn.decomposition import PCA\n",
    "import matplotlib.pyplot as plt\n",
    "from mpl_toolkits.mplot3d import Axes3D"
   ]
  },
  {
   "cell_type": "code",
   "execution_count": null,
   "metadata": {},
   "outputs": [],
   "source": [
    "temp_0 = (np.random.randn(100) * 100).reshape(100,1)\n",
    "temp_1 = (np.random.randn(100) * 37).reshape(100,1)\n",
    "temp_2 = (np.random.randn(100) * 999).reshape(100,1)\n",
    "X = np.hstack((temp_0, temp_1, temp_2))\n",
    "show_data_3D(X, \"Data\")\n",
    "print(f\"Data:\\n {X[0:3,:]}\")\n",
    "pca = PCA(n_components=2)\n",
    "X_decomposed = pca.fit_transform(X)\n",
    "show_data(X_decomposed, \"Decomposed_data\")\n",
    "print(f\"Decomposed data:\\n {X_decomposed[0:3,:]}\")\n",
    "print(f\"Var of decomposed data: {pca.explained_variance_ratio_}\")"
   ]
  },
  {
   "cell_type": "code",
   "execution_count": null,
   "metadata": {},
   "outputs": [],
   "source": [
    "def show_data(data, title):\n",
    "    fig, ax = plt.subplots()\n",
    "    ax.use_sticky_edges = False\n",
    "    ax.margins(0.07)\n",
    "    ax.set_xlabel('X Label')\n",
    "    ax.set_ylabel('Y Label')\n",
    "    ax.scatter(data[:,0], data[:,1])\n",
    "    ax.set_title(f\"{title}\")\n",
    "    plt.show()"
   ]
  },
  {
   "cell_type": "code",
   "execution_count": null,
   "metadata": {},
   "outputs": [],
   "source": [
    "def show_data_3D(data, title):\n",
    "    fig = plt.figure()\n",
    "    ax = fig.gca(projection='3d')\n",
    "    ax.scatter(data[:,0],data[:,1],data[:,1])\n",
    "    ax.set_xlabel('X Label')\n",
    "    ax.set_ylabel('Y Label')\n",
    "    ax.set_zlabel('Z Label')\n",
    "    ax.set_title(f\"{title}\")\n",
    "    plt.show()"
   ]
  }
 ],
 "metadata": {
  "kernelspec": {
   "display_name": "Python 3",
   "language": "python",
   "name": "python3"
  },
  "language_info": {
   "codemirror_mode": {
    "name": "ipython",
    "version": 3
   },
   "file_extension": ".py",
   "mimetype": "text/x-python",
   "name": "python",
   "nbconvert_exporter": "python",
   "pygments_lexer": "ipython3",
   "version": "3.7.2"
  }
 },
 "nbformat": 4,
 "nbformat_minor": 2
}
